{
 "cells": [
  {
   "cell_type": "markdown",
   "metadata": {},
   "source": [
    "#### Necessary imports"
   ]
  },
  {
   "cell_type": "code",
   "execution_count": null,
   "metadata": {},
   "outputs": [],
   "source": [
    "import os\n",
    "import cv2\n",
    "import rootutils\n",
    "import numpy as np\n",
    "from PIL import Image\n",
    "from IPython.display import display\n",
    "\n",
    "import torch\n",
    "import torchvision.transforms as transforms\n",
    "\n",
    "# adding root to python path\n",
    "rootutils.setup_root(os.path.abspath(\"\"), indicator=[\".git\", \"pyproject.toml\"], pythonpath=True)\n",
    "\n",
    "from src.models.components.cnn_cam_multihead import CNNCAMMultihead\n",
    "from src.models.components.vit_rollout_multihead import VitRolloutMultihead\n",
    "from src.models.components.nn_utils import weight_load"
   ]
  },
  {
   "cell_type": "markdown",
   "metadata": {},
   "source": [
    "#### Helper function"
   ]
  },
  {
   "cell_type": "code",
   "execution_count": null,
   "metadata": {},
   "outputs": [],
   "source": [
    "def apply_cm(\n",
    "    image: np.array, map: np.array, threshold: float = 0.5, alpha: float = 0.5\n",
    ") -> None:\n",
    "    \"\"\"Image saving function for image, explainability map and label. Images are\n",
    "    horizontally concatenated.\n",
    "\n",
    "    Args:\n",
    "        image (np.array): Original image.\n",
    "        map (np.array): Explainability map.\n",
    "    \"\"\"\n",
    "    map_thresholded = np.where(map > threshold, 1, 0)\n",
    "    map_thresholded = (map_thresholded * 255).astype(np.uint8)\n",
    "    map_thresholded = cv2.cvtColor(map_thresholded, cv2.COLOR_GRAY2RGB)\n",
    "\n",
    "    map_normalized = cv2.normalize(\n",
    "        map, None, alpha=0, beta=255, norm_type=cv2.NORM_MINMAX, dtype=cv2.CV_8U\n",
    "    )\n",
    "    map_colored = cv2.applyColorMap(map_normalized, cv2.COLORMAP_JET)\n",
    "    blended_image = cv2.addWeighted(image, 1 - alpha, map_colored, alpha, 0)\n",
    "\n",
    "    return blended_image"
   ]
  },
  {
   "cell_type": "markdown",
   "metadata": {},
   "source": [
    "#### Load sample images"
   ]
  },
  {
   "cell_type": "code",
   "execution_count": null,
   "metadata": {},
   "outputs": [],
   "source": [
    "image = cv2.imread(\"../docs/sample_data/01_short_04_1926_1070.png\", cv2.IMREAD_COLOR)\n",
    "image = cv2.cvtColor(image, cv2.COLOR_BGR2RGB)\n",
    "display(Image.fromarray(image))\n",
    "label = cv2.imread(\"../docs/sample_data/01_short_04_1926_1070_label.png\", cv2.IMREAD_GRAYSCALE)\n",
    "display(Image.fromarray(label))"
   ]
  },
  {
   "cell_type": "markdown",
   "metadata": {},
   "source": [
    "#### Device setup"
   ]
  },
  {
   "cell_type": "code",
   "execution_count": null,
   "metadata": {},
   "outputs": [],
   "source": [
    "device = torch.device(\"cuda\" if torch.cuda.is_available() else \"cpu\")\n",
    "print(device)"
   ]
  },
  {
   "cell_type": "markdown",
   "metadata": {},
   "source": [
    "#### Transforms"
   ]
  },
  {
   "cell_type": "code",
   "execution_count": null,
   "metadata": {},
   "outputs": [],
   "source": [
    "transform = transforms.Compose([\n",
    "    transforms.ToTensor()\n",
    "])\n",
    "image_tensor = transform(image).unsqueeze(0).to(device)"
   ]
  },
  {
   "cell_type": "markdown",
   "metadata": {},
   "source": [
    "#### CNN with cam output"
   ]
  },
  {
   "cell_type": "code",
   "execution_count": null,
   "metadata": {},
   "outputs": [],
   "source": [
    "cnn_model = CNNCAMMultihead(\n",
    "    backbone = \"torchvision.models/efficientnet_v2_s\",\n",
    "    return_node=\"features.6.0.block.0\",\n",
    "    multi_head=True\n",
    ").to(device)\n",
    "\n",
    "weights = weight_load(ckpt_path=\"../trained_models/models--DeepVisionXplain--efficientnet_v2_s_downscaled_pcb/\", ext=\".pth\")\n",
    "\n",
    "cnn_model.load_state_dict(weights)\n",
    "cnn_model.eval()\n",
    "with torch.no_grad():\n",
    "    out, cam = cnn_model(image_tensor)\n",
    "\n",
    "preds = (out > 0.5).float()\n",
    "for i, pred in enumerate(preds):\n",
    "    map_segmentation = cam[i] if pred == 1 else torch.zeros_like(cam[i])\n",
    "    if pred == 1:\n",
    "        map_segmentation = (map_segmentation - map_segmentation.min()) / (map_segmentation.max() - map_segmentation.min())\n",
    "    map_segmentation = map_segmentation.cpu().numpy()\n",
    "    blended_img = apply_cm(image, map_segmentation)\n",
    "\n",
    "    # Only for displaying\n",
    "    blended_img = cv2.cvtColor(blended_img, cv2.COLOR_BGR2RGB)\n",
    "    display(Image.fromarray(blended_img))"
   ]
  },
  {
   "cell_type": "markdown",
   "metadata": {},
   "source": [
    "#### ViT with attention rollout output"
   ]
  },
  {
   "cell_type": "code",
   "execution_count": null,
   "metadata": {},
   "outputs": [],
   "source": [
    "vit_model = VitRolloutMultihead(\n",
    "    backbone = \"timm/vit_tiny_patch16_224.augreg_in21k_ft_in1k\",\n",
    "    multi_head=True\n",
    ").to(device)\n",
    "\n",
    "weights = weight_load(ckpt_path=\"../trained_models/models--DeepVisionXplain--deit_tiny_patch16_224.fb_in1k_pcb/\", ext=\".pth\")\n",
    "\n",
    "vit_model.load_state_dict(weights)\n",
    "vit_model.eval()\n",
    "with torch.no_grad():\n",
    "    out, cam = vit_model(image_tensor)\n",
    "\n",
    "preds = (out > 0.5).float()\n",
    "for i, pred in enumerate(preds):\n",
    "    map_segmentation = cam[i] if pred == 1 else torch.zeros_like(cam[i])\n",
    "    if pred == 1:\n",
    "        map_segmentation = (map_segmentation - map_segmentation.min()) / (map_segmentation.max() - map_segmentation.min())\n",
    "    map_segmentation = map_segmentation.cpu().numpy()\n",
    "    blended_img = apply_cm(image, map_segmentation)\n",
    "\n",
    "    # Only for displaying\n",
    "    blended_img = cv2.cvtColor(blended_img, cv2.COLOR_BGR2RGB)\n",
    "    display(Image.fromarray(blended_img))"
   ]
  }
 ],
 "metadata": {
  "kernelspec": {
   "display_name": "DeepVisionXplain",
   "language": "python",
   "name": "python3"
  },
  "language_info": {
   "codemirror_mode": {
    "name": "ipython",
    "version": 3
   },
   "file_extension": ".py",
   "mimetype": "text/x-python",
   "name": "python",
   "nbconvert_exporter": "python",
   "pygments_lexer": "ipython3",
   "version": "3.11.7"
  }
 },
 "nbformat": 4,
 "nbformat_minor": 2
}
