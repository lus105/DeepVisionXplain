{
 "cells": [
  {
   "cell_type": "code",
   "execution_count": null,
   "metadata": {},
   "outputs": [],
   "source": [
    "import os\n",
    "import cv2\n",
    "import matplotlib.pyplot as plt\n",
    "import torch\n",
    "import torch.nn as nn\n",
    "import torch.nn.functional as F\n",
    "from torchvision import transforms\n",
    "from torchvision.models import efficientnet_b3\n",
    "from torchvision.models.feature_extraction import (\n",
    "    create_feature_extractor,\n",
    "    get_graph_node_names,\n",
    ")"
   ]
  },
  {
   "cell_type": "code",
   "execution_count": null,
   "metadata": {},
   "outputs": [],
   "source": [
    "# Get graph node names\n",
    "names = get_graph_node_names(efficientnet_b3(weights=\"IMAGENET1K_V1\"))\n",
    "print(names)"
   ]
  },
  {
   "cell_type": "code",
   "execution_count": null,
   "metadata": {},
   "outputs": [],
   "source": [
    "# Feature extractor\n",
    "class FeatureExtractor(nn.Module):\n",
    "    def __init__(self, pretrained_model, return_nodes: dict):\n",
    "        super().__init__()\n",
    "        nodes = list(return_nodes.values())\n",
    "        self.out_name = nodes[0]\n",
    "        self.model = create_feature_extractor(pretrained_model, return_nodes=return_nodes)\n",
    "\n",
    "    def forward(self, input: torch.Tensor):\n",
    "        features = self.model(input)\n",
    "        return features[self.out_name]"
   ]
  },
  {
   "cell_type": "code",
   "execution_count": null,
   "metadata": {},
   "outputs": [],
   "source": [
    "# Output layer consisting of a global average pooling layer and a sigmoid layer\n",
    "class OutputLayer(nn.Module):\n",
    "    def __init__(self, last_layer_features: int):\n",
    "        super().__init__()\n",
    "        self.global_avg_pool = nn.AdaptiveAvgPool2d((1, 1))\n",
    "        self.sigmoid_fc = nn.Linear(last_layer_features, 1)\n",
    "\n",
    "    def forward(self, x: torch.Tensor):\n",
    "        x = self.global_avg_pool(x)\n",
    "        x = torch.flatten(x, 1)\n",
    "        x = self.sigmoid_fc(x)\n",
    "        x = torch.sigmoid(x)\n",
    "        return x"
   ]
  },
  {
   "cell_type": "code",
   "execution_count": null,
   "metadata": {},
   "outputs": [],
   "source": [
    "# Cam generator\n",
    "class CAMGenerator(nn.Module):\n",
    "    def __init__(self, sigmoid_fc: torch.nn.modules.linear.Linear):\n",
    "        super().__init__()\n",
    "        self.sigmoid_fc = sigmoid_fc\n",
    "\n",
    "    def forward(self, input: torch.Tensor, features: torch.Tensor):\n",
    "        weights = self.sigmoid_fc.weight.data.unsqueeze(-1).unsqueeze(-1)\n",
    "        cam = torch.einsum(\"ijkl,ijkl->ikl\", features, weights).unsqueeze(1)  # (B, 1, H, W)\n",
    "        cam = F.interpolate(\n",
    "            cam, size=input.size()[2:], mode=\"bilinear\", align_corners=False).squeeze(1)  # (B, H, W)\n",
    "        return cam"
   ]
  },
  {
   "cell_type": "code",
   "execution_count": null,
   "metadata": {},
   "outputs": [],
   "source": [
    "\n",
    "# Multi-Head model specifically designed for EfficientNetB3\n",
    "# Note that return_nodes as well as last_layer_features are hadcoded for EfficientNetB3\n",
    "class EfficientNetB3_4down(nn.Module):\n",
    "    def __init__(self, generate_cam: bool = False):\n",
    "        super().__init__()\n",
    "        pretrained_model = efficientnet_b3(weights=\"IMAGENET1K_V1\")\n",
    "        return_nodes = {\"features.5.1.block.2\": \"layerout\"}\n",
    "        self.feature_extractor = FeatureExtractor(pretrained_model, return_nodes=return_nodes)\n",
    "        self.output_layer = OutputLayer(last_layer_features=816)\n",
    "        self.cam_generator = CAMGenerator(self.output_layer.sigmoid_fc)\n",
    "        self.generate_cam = generate_cam\n",
    "\n",
    "    def forward(self, input: torch.Tensor):\n",
    "        features = self.feature_extractor(input)\n",
    "        sigmoid_output = self.output_layer(features)\n",
    "        if not self.generate_cam:\n",
    "            return sigmoid_output\n",
    "        else:\n",
    "            cam = self.cam_generator(input, features)\n",
    "            return sigmoid_output, cam"
   ]
  },
  {
   "cell_type": "code",
   "execution_count": null,
   "metadata": {},
   "outputs": [],
   "source": [
    "# Check if the model and CAM module outputs reasonable shapes\n",
    "model = EfficientNetB3_4down(generate_cam=True)\n",
    "model.eval()\n",
    "# Assume batch size of 10\n",
    "dummy_input = torch.randn(10, 3, 640, 640)\n",
    "with torch.no_grad():\n",
    "    out, cam = model(dummy_input)\n",
    "\n",
    "print(\"Output shape:\", out.shape)\n",
    "print(\"CAM shape:\", cam.shape)"
   ]
  }
 ],
 "metadata": {
  "kernelspec": {
   "display_name": "DeepVisionXplain",
   "language": "python",
   "name": "python3"
  },
  "language_info": {
   "codemirror_mode": {
    "name": "ipython",
    "version": 3
   },
   "file_extension": ".py",
   "mimetype": "text/x-python",
   "name": "python",
   "nbconvert_exporter": "python",
   "pygments_lexer": "ipython3",
   "version": "3.10.13"
  }
 },
 "nbformat": 4,
 "nbformat_minor": 2
}
