{
 "cells": [
  {
   "cell_type": "code",
   "execution_count": 1,
   "metadata": {},
   "outputs": [],
   "source": [
    "import os\n",
    "import pandas as pd\n",
    "import numpy as np\n",
    "from cleanlab import Datalab"
   ]
  },
  {
   "cell_type": "code",
   "execution_count": 2,
   "metadata": {},
   "outputs": [],
   "source": [
    "features = np.load(\"features.npy\")\n",
    "pred_probs = np.load(\"pred_probs.npy\")\n",
    "true_labels = np.load(\"labels.npy\")[:, 0]\n",
    "image_paths = np.load(\"image_paths.npy\", allow_pickle=True)"
   ]
  },
  {
   "cell_type": "code",
   "execution_count": 3,
   "metadata": {},
   "outputs": [],
   "source": [
    "data = pd.DataFrame({\n",
    "    \"id\": np.arange(len(image_paths)),  # IDs match dataset order\n",
    "    \"label\": true_labels,  # True labels\n",
    "    \"image_path\": image_paths  # Store image paths for visualization\n",
    "})"
   ]
  },
  {
   "cell_type": "code",
   "execution_count": null,
   "metadata": {},
   "outputs": [],
   "source": [
    "# Initialize Cleanlab\n",
    "lab = Datalab(data=data, label_name=\"label\")\n",
    "\n",
    "# Detect label issues\n",
    "lab.find_issues(features=features, pred_probs=pred_probs)\n",
    "\n",
    "# Generate report\n",
    "lab.report()\n",
    "\n",
    "# Retrieve problem indices\n",
    "problematic_samples = lab.get_issues()\n",
    "\n",
    "# Get image file paths of problematic samples\n",
    "problematic_images = data.loc[problematic_samples.index, \"image_path\"]\n",
    "\n",
    "print(\"Problematic images:\")\n",
    "print(problematic_images.head())"
   ]
  },
  {
   "cell_type": "code",
   "execution_count": null,
   "metadata": {},
   "outputs": [],
   "source": [
    "import matplotlib.pyplot as plt\n",
    "from PIL import Image\n",
    "\n",
    "# Display top 5 problematic images\n",
    "for img_path in problematic_images.head(5):\n",
    "    img = Image.open(img_path)\n",
    "    plt.imshow(img)\n",
    "    plt.title(f\"Problematic Image: {os.path.basename(img_path)}\")\n",
    "    plt.axis(\"off\")\n",
    "    plt.show()"
   ]
  }
 ],
 "metadata": {
  "kernelspec": {
   "display_name": "DeepVisionXplain",
   "language": "python",
   "name": "python3"
  },
  "language_info": {
   "codemirror_mode": {
    "name": "ipython",
    "version": 3
   },
   "file_extension": ".py",
   "mimetype": "text/x-python",
   "name": "python",
   "nbconvert_exporter": "python",
   "pygments_lexer": "ipython3",
   "version": "3.11.11"
  }
 },
 "nbformat": 4,
 "nbformat_minor": 2
}
