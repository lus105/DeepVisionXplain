{
 "cells": [
  {
   "cell_type": "code",
   "execution_count": 1,
   "metadata": {},
   "outputs": [],
   "source": [
    "import pandas as pd\n",
    "import numpy as np\n",
    "from cleanlab import Datalab\n",
    "import math\n",
    "import matplotlib.pyplot as plt\n",
    "from PIL import Image"
   ]
  },
  {
   "cell_type": "code",
   "execution_count": 2,
   "metadata": {},
   "outputs": [],
   "source": [
    "features = np.load(\"features.npy\")\n",
    "pred_probs = np.load(\"pred_probs.npy\")\n",
    "true_labels = np.load(\"labels.npy\")[:, 0]\n",
    "image_paths = np.load(\"image_paths.npy\", allow_pickle=True)"
   ]
  },
  {
   "cell_type": "code",
   "execution_count": 3,
   "metadata": {},
   "outputs": [],
   "source": [
    "data = pd.DataFrame({\n",
    "    \"id\": np.arange(len(image_paths)),  # IDs match dataset order\n",
    "    \"label\": true_labels,  # True labels\n",
    "    \"image_path\": image_paths  # Store image paths for visualization\n",
    "})"
   ]
  },
  {
   "cell_type": "code",
   "execution_count": null,
   "metadata": {},
   "outputs": [],
   "source": [
    "# Initialize Cleanlab\n",
    "lab = Datalab(data=data, label_name=\"label\")\n",
    "# Detect label issues\n",
    "lab.find_issues(features=features, pred_probs=pred_probs)\n",
    "# Generate report\n",
    "lab.report()\n",
    "# Retrieve problem indices\n",
    "problematic_samples = lab.get_issues()\n",
    "# Get image file paths of problematic samples\n",
    "problematic_images = data.loc[problematic_samples.index, \"image_path\"]"
   ]
  },
  {
   "cell_type": "code",
   "execution_count": null,
   "metadata": {},
   "outputs": [],
   "source": [
    "label_issues = lab.get_issues(\"label\")\n",
    "label_issues.head()\n",
    "label_issues_df = label_issues.query(\"is_label_issue\").sort_values(\"label_score\")\n",
    "label_issues_df.head()"
   ]
  },
  {
   "cell_type": "code",
   "execution_count": 6,
   "metadata": {},
   "outputs": [],
   "source": [
    "def plot_label_issue_examples(label_issues_df, num_examples=15):\n",
    "    ncols = 5\n",
    "    nrows = int(math.ceil(num_examples / ncols))\n",
    "\n",
    "    fig, axes = plt.subplots(nrows=nrows, ncols=ncols, figsize=(1.5 * ncols, 1.5 * nrows))\n",
    "    axes_list = axes.flatten()\n",
    "\n",
    "    label_issue_indices = label_issues_df.index.values\n",
    "\n",
    "    for i, ax in enumerate(axes_list):\n",
    "        if i >= num_examples:\n",
    "            ax.axis(\"off\")\n",
    "            continue\n",
    "        \n",
    "        idx = int(label_issue_indices[i])\n",
    "        row = label_issues_df.loc[idx]\n",
    "\n",
    "        img_path = data.loc[data[\"id\"] == idx, \"image_path\"].values[0]\n",
    "        img = Image.open(img_path)\n",
    "\n",
    "        ax.set_title(f\"id: {idx}\\nGT: {row.given_label}\\nPRED: {row.predicted_label}\", fontsize=8)\n",
    "        ax.imshow(img, cmap=\"gray\")\n",
    "        ax.axis(\"off\")\n",
    "\n",
    "    plt.subplots_adjust(hspace=0.7)\n",
    "    plt.show()"
   ]
  },
  {
   "cell_type": "code",
   "execution_count": null,
   "metadata": {},
   "outputs": [],
   "source": [
    "plot_label_issue_examples(label_issues_df, num_examples=20)"
   ]
  },
  {
   "cell_type": "code",
   "execution_count": null,
   "metadata": {},
   "outputs": [],
   "source": [
    "outlier_issues_df = lab.get_issues(\"outlier\")\n",
    "outlier_issues_df = outlier_issues_df.query(\"is_outlier_issue\").sort_values(\"outlier_score\")\n",
    "outlier_issues_df.head()"
   ]
  },
  {
   "cell_type": "code",
   "execution_count": 9,
   "metadata": {},
   "outputs": [],
   "source": [
    "def plot_outlier_issues_examples(outlier_issues_df, num_examples=10, ncols=5):\n",
    "    \"\"\"Display outlier images in a grid without reference images.\n",
    "\n",
    "    Args:\n",
    "        outlier_issues_df (DataFrame): Cleanlab-detected outliers.\n",
    "        num_examples (int): Number of outliers to display.\n",
    "        ncols (int): Number of images per row.\n",
    "    \"\"\"\n",
    "    if outlier_issues_df.empty:\n",
    "        print(\"⚠️ No outlier issues found.\")\n",
    "        return\n",
    "\n",
    "    num_examples = min(num_examples, len(outlier_issues_df))\n",
    "    nrows = math.ceil(num_examples / ncols)  # Determine number of rows\n",
    "\n",
    "    fig, axes = plt.subplots(nrows=nrows, ncols=ncols, figsize=(2 * ncols, 2 * nrows))\n",
    "    axes_list = axes.flatten() if nrows > 1 else [axes]  # Handle single-row case\n",
    "\n",
    "    for i, (idx, row) in enumerate(outlier_issues_df.iterrows()):\n",
    "        if i >= num_examples:\n",
    "            break\n",
    "        \n",
    "        # Load outlier image\n",
    "        img_path = data.loc[data.index == idx, \"image_path\"].values[0]\n",
    "        img = Image.open(img_path)\n",
    "\n",
    "        # Display image\n",
    "        axes_list[i].imshow(img, cmap=\"gray\")\n",
    "        axes_list[i].set_title(f\"id: {idx}\", fontsize=8)\n",
    "        axes_list[i].axis(\"off\")\n",
    "\n",
    "    # Hide any remaining empty subplots\n",
    "    for j in range(i + 1, len(axes_list)):\n",
    "        axes_list[j].axis(\"off\")\n",
    "\n",
    "    plt.subplots_adjust(hspace=0.5, wspace=0.5)\n",
    "    plt.show()"
   ]
  },
  {
   "cell_type": "code",
   "execution_count": null,
   "metadata": {},
   "outputs": [],
   "source": [
    "plot_outlier_issues_examples(outlier_issues_df, num_examples=10)"
   ]
  },
  {
   "cell_type": "code",
   "execution_count": null,
   "metadata": {},
   "outputs": [],
   "source": [
    "near_duplicate_issues_df = lab.get_issues(\"near_duplicate\")\n",
    "near_duplicate_issues_df = near_duplicate_issues_df.query(\"is_near_duplicate_issue\").sort_values(\n",
    "    \"near_duplicate_score\"\n",
    ")\n",
    "near_duplicate_issues_df.head()"
   ]
  },
  {
   "cell_type": "code",
   "execution_count": 12,
   "metadata": {},
   "outputs": [],
   "source": [
    "def plot_near_duplicate_issue_examples(near_duplicate_issues_df, num_examples=3):\n",
    "    nrows = min(num_examples, len(near_duplicate_issues_df))\n",
    "    seen_id_pairs = set()\n",
    "\n",
    "    count = 0\n",
    "    for idx, row in near_duplicate_issues_df.iterrows():\n",
    "        img_path = data.loc[data[\"id\"] == idx, \"image_path\"].values[0]\n",
    "        img = Image.open(img_path)\n",
    "\n",
    "        duplicate_images = row.near_duplicate_sets\n",
    "        nd_set = set([int(i) for i in duplicate_images])\n",
    "        nd_set.add(int(idx))\n",
    "\n",
    "        if nd_set & seen_id_pairs:\n",
    "            continue\n",
    "\n",
    "        fig, axes = plt.subplots(1, len(nd_set), figsize=(len(nd_set), 3))\n",
    "        if len(nd_set) == 1:\n",
    "            axes = [axes]  # Ensure axes is iterable\n",
    "\n",
    "        for i, ax in zip(list(nd_set), axes):\n",
    "            img_path = data.loc[data[\"id\"] == i, \"image_path\"].values[0]\n",
    "            img = Image.open(img_path)\n",
    "\n",
    "            ax.set_title(f\"id: {i}\", fontsize=8)\n",
    "            ax.imshow(img, cmap=\"gray\")\n",
    "            ax.axis(\"off\")\n",
    "\n",
    "        seen_id_pairs.update(nd_set)\n",
    "        count += 1\n",
    "        if count >= nrows:\n",
    "            break\n",
    "\n",
    "    plt.show()"
   ]
  },
  {
   "cell_type": "code",
   "execution_count": null,
   "metadata": {},
   "outputs": [],
   "source": [
    "plot_near_duplicate_issue_examples(near_duplicate_issues_df, num_examples=10)"
   ]
  }
 ],
 "metadata": {
  "kernelspec": {
   "display_name": "DeepVisionXplain",
   "language": "python",
   "name": "python3"
  },
  "language_info": {
   "codemirror_mode": {
    "name": "ipython",
    "version": 3
   },
   "file_extension": ".py",
   "mimetype": "text/x-python",
   "name": "python",
   "nbconvert_exporter": "python",
   "pygments_lexer": "ipython3",
   "version": "3.11.11"
  }
 },
 "nbformat": 4,
 "nbformat_minor": 2
}
