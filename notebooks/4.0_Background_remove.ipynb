{
 "cells": [
  {
   "cell_type": "code",
   "execution_count": null,
   "metadata": {},
   "outputs": [],
   "source": [
    "import cv2\n",
    "import os\n",
    "import rootutils\n",
    "from pathlib import Path\n",
    "\n",
    "\n",
    "rootutils.setup_root(\n",
    "    os.path.abspath(''), indicator=['.git', 'pyproject.toml'], pythonpath=True\n",
    ")\n",
    "\n",
    "from src.data.components.utils import list_files, find_file_by_name"
   ]
  },
  {
   "cell_type": "code",
   "execution_count": null,
   "metadata": {},
   "outputs": [],
   "source": [
    "photo_path = Path('/defect_wrinkles_image_mask/Photos/')\n",
    "label_path = Path('/defect_wrinkles_image_mask/Outline/')\n",
    "output_path = Path('/defect_wrinkles_image_mask/Photos_no_background/')"
   ]
  },
  {
   "cell_type": "code",
   "execution_count": 3,
   "metadata": {},
   "outputs": [],
   "source": [
    "output_path.mkdir(parents=True, exist_ok=True)\n",
    "image_paths = list_files(photo_path, ['.bmp'])\n",
    "for image_path in image_paths:\n",
    "    mask_path = find_file_by_name(label_path, image_path.stem + '_mask', ['.png'])\n",
    "    image = cv2.imread(str(image_path), cv2.IMREAD_COLOR)\n",
    "    mask = cv2.imread(str(mask_path), cv2.IMREAD_GRAYSCALE)\n",
    "\n",
    "    # Ensure the mask is binary\n",
    "    _, binary_mask = cv2.threshold(mask, 128, 255, cv2.THRESH_BINARY)\n",
    "\n",
    "    # Create a 3-channel mask for the image\n",
    "    binary_mask_3c = cv2.merge([binary_mask, binary_mask, binary_mask])\n",
    "\n",
    "    # Remove the background by applying the mask\n",
    "    foreground = cv2.bitwise_and(image, binary_mask_3c)\n",
    "\n",
    "    # Save the result\n",
    "    output_file = output_path / (image_path.stem + '.bmp')\n",
    "    cv2.imwrite(str(output_file), foreground)"
   ]
  }
 ],
 "metadata": {
  "kernelspec": {
   "display_name": "DeepVisionXplain",
   "language": "python",
   "name": "python3"
  },
  "language_info": {
   "codemirror_mode": {
    "name": "ipython",
    "version": 3
   },
   "file_extension": ".py",
   "mimetype": "text/x-python",
   "name": "python",
   "nbconvert_exporter": "python",
   "pygments_lexer": "ipython3",
   "version": "3.11.7"
  }
 },
 "nbformat": 4,
 "nbformat_minor": 2
}
