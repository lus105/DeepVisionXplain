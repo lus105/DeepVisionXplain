{
 "cells": [
  {
   "cell_type": "code",
   "execution_count": null,
   "metadata": {},
   "outputs": [],
   "source": [
    "import os\n",
    "from dotenv import load_dotenv\n",
    "from huggingface_hub import snapshot_download, hf_hub_download\n",
    "\n",
    "models_list = [\n",
    "    'DeepVisionXplain/deit_tiny_patch16_224.fb_in1k_pcb',\n",
    "    'DeepVisionXplain/deit_tiny_patch16_224.fb_in1k_gears',\n",
    "    'DeepVisionXplain/vit_tiny_patch16_224.augreg_in21k_ft_in1k_gears',\n",
    "    'DeepVisionXplain/vit_tiny_patch16_224.augreg_in21k_ft_in1k_pcb',\n",
    "    'DeepVisionXplain/efficientnet_v2_s_downscaled_gears',\n",
    "    'DeepVisionXplain/efficientnet_v2_s_full_gears',\n",
    "    'DeepVisionXplain/mobilenet_v3_large_downscaled_gears',\n",
    "    'DeepVisionXplain/mobilenet_v3_large_full_gears',\n",
    "    'DeepVisionXplain/efficientnet_v2_s_downscaled_pcb',\n",
    "    'DeepVisionXplain/efficientnet_v2_s_full_pcb',\n",
    "    'DeepVisionXplain/mobilenet_v3_large_downscaled_pcb',\n",
    "    'DeepVisionXplain/mobilenet_v3_large_full_pcb'\n",
    "]\n",
    "\n",
    "# loading .env variables\n",
    "load_dotenv()\n",
    "# make sure hf_token is set in .env file\n",
    "hf_token = os.environ.get(\"hf_token\")\n",
    "# download the model from huggingface hub\n",
    "for model in models_list:\n",
    "    snapshot_download(\n",
    "        model,\n",
    "        token=hf_token,\n",
    "        cache_dir='../trained_models/',\n",
    "    )"
   ]
  }
 ],
 "metadata": {
  "kernelspec": {
   "display_name": "DeepVisionXplain",
   "language": "python",
   "name": "python3"
  },
  "language_info": {
   "codemirror_mode": {
    "name": "ipython",
    "version": 3
   },
   "file_extension": ".py",
   "mimetype": "text/x-python",
   "name": "python",
   "nbconvert_exporter": "python",
   "pygments_lexer": "ipython3",
   "version": "3.11.7"
  }
 },
 "nbformat": 4,
 "nbformat_minor": 2
}
