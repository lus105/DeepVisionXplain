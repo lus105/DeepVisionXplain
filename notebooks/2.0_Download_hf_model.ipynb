{
 "cells": [
  {
   "cell_type": "code",
   "execution_count": null,
   "metadata": {},
   "outputs": [],
   "source": [
    "import os\n",
    "from dotenv import load_dotenv\n",
    "from huggingface_hub import snapshot_download\n",
    "\n",
    "# loading .env variables\n",
    "load_dotenv()\n",
    "# make sure hf_token is set in .env file\n",
    "hf_token = os.environ.get(\"hf_token\")\n",
    "# download the model from huggingface hub\n",
    "snapshot_download(\"DeepVisionXplain/EfficientNetB3_downscaled_pcb\", token=hf_token, cache_dir=\"../trained_models/\")"
   ]
  }
 ],
 "metadata": {
  "kernelspec": {
   "display_name": "DeepVisionXplain",
   "language": "python",
   "name": "python3"
  },
  "language_info": {
   "codemirror_mode": {
    "name": "ipython",
    "version": 3
   },
   "file_extension": ".py",
   "mimetype": "text/x-python",
   "name": "python",
   "nbconvert_exporter": "python",
   "pygments_lexer": "ipython3",
   "version": "3.11.7"
  }
 },
 "nbformat": 4,
 "nbformat_minor": 2
}
