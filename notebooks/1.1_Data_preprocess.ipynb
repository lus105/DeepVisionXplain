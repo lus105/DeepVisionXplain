{
 "cells": [
  {
   "cell_type": "code",
   "execution_count": null,
   "id": "73514a78",
   "metadata": {},
   "outputs": [],
   "source": [
    "import os\n",
    "import rootutils\n",
    "from pathlib import Path\n",
    "from dotenv import load_dotenv\n",
    "\n",
    "rootutils.setup_root(\n",
    "    os.path.abspath(''), indicator=['.git', 'pyproject.toml'], pythonpath=True\n",
    ")\n",
    "\n",
    "from helpers.data.preprocessing.preproc_pipeline_manager import PreprocessingPipeline\n",
    "from helpers.data.preprocessing.preproc_strategy_split import SplitStep\n",
    "from helpers.data.preprocessing.preproc_strategy_tile import TilingStep\n",
    "from src.data.components.utils import clear_directory\n",
    "\n",
    "load_dotenv()"
   ]
  },
  {
   "cell_type": "code",
   "execution_count": null,
   "id": "ef3cc13c",
   "metadata": {},
   "outputs": [],
   "source": [
    "data_dir = os.environ.get('pcb_data_path')\n",
    "overwrite_data = True\n",
    "# initialize the preprocessing pipeline\n",
    "preprocessing_pipeline = PreprocessingPipeline(\n",
    "    steps=[\n",
    "        SplitStep(split_ratio=[0.7, 0.2, 0.1], seed=42, merge_classes=True),\n",
    "        TilingStep(\n",
    "            tile_size=(224, 224),\n",
    "            min_defective_area_th=0.1,\n",
    "            discard_background_th=0.0,\n",
    "            overlap=10,\n",
    "            contour_iter_step_size=10,\n",
    "            iterate_over_defective_areas=True,\n",
    "        ),\n",
    "    ]\n",
    ")"
   ]
  },
  {
   "cell_type": "code",
   "execution_count": null,
   "id": "13fb5ccf",
   "metadata": {},
   "outputs": [],
   "source": [
    "data_path = Path(data_dir)\n",
    "base_path = data_path.parent\n",
    "last_subdir = data_path.name\n",
    "output_path = base_path / f'{last_subdir}_processed'\n",
    "\n",
    "initial_data = {'initial_data': data_dir}\n",
    "if output_path.exists():\n",
    "    if overwrite_data:\n",
    "        clear_directory(output_path)\n",
    "        output_path.rmdir()\n",
    "        preprocessed_data = preprocessing_pipeline.run(initial_data)\n",
    "    else:\n",
    "        preprocessed_data = preprocessing_pipeline.get_processed_data_path(initial_data)\n",
    "else:\n",
    "    preprocessed_data = preprocessing_pipeline.run(initial_data)"
   ]
  }
 ],
 "metadata": {
  "kernelspec": {
   "display_name": "DeepVisionXplain",
   "language": "python",
   "name": "python3"
  },
  "language_info": {
   "codemirror_mode": {
    "name": "ipython",
    "version": 3
   },
   "file_extension": ".py",
   "mimetype": "text/x-python",
   "name": "python",
   "nbconvert_exporter": "python",
   "pygments_lexer": "ipython3",
   "version": "3.11.11"
  }
 },
 "nbformat": 4,
 "nbformat_minor": 5
}
