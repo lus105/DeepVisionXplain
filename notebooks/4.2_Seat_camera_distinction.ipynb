{
 "cells": [
  {
   "cell_type": "code",
   "execution_count": 1,
   "metadata": {},
   "outputs": [],
   "source": [
    "import os\n",
    "import re\n",
    "from pathlib import Path\n",
    "from dotenv import load_dotenv\n",
    "import rootutils\n",
    "from shutil import copy2\n",
    "\n",
    "rootutils.setup_root(\n",
    "    os.path.abspath(''), indicator=['.git', 'pyproject.toml'], pythonpath=True\n",
    ")\n",
    "\n",
    "from src.data.components.utils import list_files, IMAGE_EXTENSIONS"
   ]
  },
  {
   "cell_type": "code",
   "execution_count": null,
   "metadata": {},
   "outputs": [],
   "source": [
    "load_dotenv()"
   ]
  },
  {
   "cell_type": "code",
   "execution_count": null,
   "metadata": {},
   "outputs": [],
   "source": [
    "# Set paths\n",
    "data_path = Path(os.environ.get('lear_wrinkles_data_path'))\n",
    "image_path = data_path / 'Photos'\n",
    "\n",
    "# Gather images\n",
    "image_paths = list_files(image_path, file_extensions=IMAGE_EXTENSIONS)\n",
    "print(f'Image count: {len(image_paths)}')"
   ]
  },
  {
   "cell_type": "code",
   "execution_count": 4,
   "metadata": {},
   "outputs": [],
   "source": [
    "camera_dict = {}\n",
    "\n",
    "for im_path in image_paths:\n",
    "    file_name = im_path.stem\n",
    "    camera_match = re.search(r\"Camera\\s\\w+\\s\\d+\", file_name)\n",
    "    camera_info = camera_match.group(0) if camera_match else None\n",
    "\n",
    "    if camera_info:\n",
    "        if camera_info not in camera_dict:\n",
    "            camera_dict[camera_info] = []\n",
    "        camera_dict[camera_info].append(im_path)"
   ]
  },
  {
   "cell_type": "code",
   "execution_count": 5,
   "metadata": {},
   "outputs": [],
   "source": [
    "output_path = Path('camera_images/')\n",
    "\n",
    "for camera_name, image_paths in camera_dict.items():\n",
    "    target_path = output_path / camera_name\n",
    "    target_path.mkdir(parents=True, exist_ok=True)\n",
    "    for img_path in image_paths:\n",
    "        copy2(img_path, target_path / img_path.name)"
   ]
  }
 ],
 "metadata": {
  "kernelspec": {
   "display_name": "DeepVisionXplain",
   "language": "python",
   "name": "python3"
  },
  "language_info": {
   "codemirror_mode": {
    "name": "ipython",
    "version": 3
   },
   "file_extension": ".py",
   "mimetype": "text/x-python",
   "name": "python",
   "nbconvert_exporter": "python",
   "pygments_lexer": "ipython3",
   "version": "3.11.11"
  }
 },
 "nbformat": 4,
 "nbformat_minor": 2
}
