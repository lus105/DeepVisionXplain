{
 "cells": [
  {
   "cell_type": "markdown",
   "metadata": {},
   "source": [
    "#### Before conversion, run 3.0_Model_conversion_onnx.ipynb"
   ]
  },
  {
   "cell_type": "markdown",
   "metadata": {},
   "source": [
    "##### Run fp32 conversion (CNN)"
   ]
  },
  {
   "cell_type": "code",
   "execution_count": null,
   "metadata": {},
   "outputs": [],
   "source": [
    "model_name = 'efficientnet_v2_s_downscaled_pcb'\n",
    "!trtexec \\\n",
    "    --onnx={model_name}.onnx \\\n",
    "    --saveEngine={model_name}_fp32.trt \\\n",
    "    --optShapes=input:1x3x224x224 \\\n",
    "    --skipInference"
   ]
  },
  {
   "cell_type": "markdown",
   "metadata": {},
   "source": [
    "##### Run FP32/FP16 conversion (CNN)"
   ]
  },
  {
   "cell_type": "code",
   "execution_count": null,
   "metadata": {},
   "outputs": [],
   "source": [
    "!trtexec \\\n",
    "    --onnx={model_name}.onnx \\\n",
    "    --saveEngine={model_name}_fp16.trt \\\n",
    "    --optShapes=input:1x3x224x224 \\\n",
    "    --fp16 \\\n",
    "    --skipInference"
   ]
  },
  {
   "cell_type": "markdown",
   "metadata": {},
   "source": [
    "##### Run fp32 conversion (ViT)"
   ]
  },
  {
   "cell_type": "code",
   "execution_count": null,
   "metadata": {},
   "outputs": [],
   "source": [
    "model_name = 'vit_tiny_patch16_224.augreg_in21k_ft_in1k_pcb'\n",
    "!trtexec \\\n",
    "    --onnx={model_name}.onnx \\\n",
    "    --saveEngine={model_name}_fp32.trt \\\n",
    "    --optShapes=input:1x3x224x224 \\\n",
    "    --skipInference"
   ]
  },
  {
   "cell_type": "markdown",
   "metadata": {},
   "source": [
    "##### Run fp16 conversion (ViT)"
   ]
  },
  {
   "cell_type": "code",
   "execution_count": null,
   "metadata": {},
   "outputs": [],
   "source": [
    "!trtexec \\\n",
    "    --onnx={model_name}.onnx \\\n",
    "    --saveEngine={model_name}_fp16.trt \\\n",
    "    --optShapes=input:1x3x224x224 \\\n",
    "    --fp16 \\\n",
    "    --skipInference"
   ]
  }
 ],
 "metadata": {
  "kernelspec": {
   "display_name": "DeepVisionXplain",
   "language": "python",
   "name": "python3"
  },
  "language_info": {
   "codemirror_mode": {
    "name": "ipython",
    "version": 3
   },
   "file_extension": ".py",
   "mimetype": "text/x-python",
   "name": "python",
   "nbconvert_exporter": "python",
   "pygments_lexer": "ipython3",
   "version": "3.11.11"
  }
 },
 "nbformat": 4,
 "nbformat_minor": 2
}
