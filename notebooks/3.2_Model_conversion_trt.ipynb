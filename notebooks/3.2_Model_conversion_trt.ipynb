{
 "cells": [
  {
   "cell_type": "markdown",
   "metadata": {},
   "source": [
    "Before running conversion:\n",
    "1. Run [3.0_Model_conversion_onnx.ipynb](3.0_Model_conversion_onnx.ipynb) to convert models .pth files into .onnx\n",
    "2. Make sure TensorRT [binaries](https://developer.nvidia.com/tensorrt/download/10x) are present and added to [Path](https://medium.com/@guillermovc/how-to-install-tensorrt-in-windows-10-71a4033c4407)."
   ]
  },
  {
   "cell_type": "code",
   "execution_count": null,
   "metadata": {},
   "outputs": [],
   "source": [
    "# in case of linux\n",
    "#import os\n",
    "#os.environ['PATH'] += ':/usr/src/tensorrt/bin'"
   ]
  },
  {
   "cell_type": "markdown",
   "metadata": {},
   "source": [
    "##### Run fp32 conversion (CNN)"
   ]
  },
  {
   "cell_type": "code",
   "execution_count": null,
   "metadata": {},
   "outputs": [],
   "source": [
    "model_name = 'efficientnet_v2_s_downscaled_pcb'\n",
    "!trtexec \\\n",
    "    --onnx={model_name}.onnx \\\n",
    "    --saveEngine={model_name}_fp32.trt \\\n",
    "    --optShapes=input:1x3x224x224 \\\n",
    "    --skipInference"
   ]
  },
  {
   "cell_type": "markdown",
   "metadata": {},
   "source": [
    "##### Run FP32/FP16 conversion (CNN)"
   ]
  },
  {
   "cell_type": "code",
   "execution_count": null,
   "metadata": {},
   "outputs": [],
   "source": [
    "!trtexec \\\n",
    "    --onnx={model_name}.onnx \\\n",
    "    --saveEngine={model_name}_fp16.trt \\\n",
    "    --optShapes=input:1x3x224x224 \\\n",
    "    --fp16 \\\n",
    "    --skipInference"
   ]
  },
  {
   "cell_type": "markdown",
   "metadata": {},
   "source": [
    "##### Run fp32 conversion (ViT)"
   ]
  },
  {
   "cell_type": "code",
   "execution_count": null,
   "metadata": {},
   "outputs": [],
   "source": [
    "model_name = 'vit_tiny_patch16_224.augreg_in21k_ft_in1k_pcb'\n",
    "!trtexec \\\n",
    "    --onnx={model_name}.onnx \\\n",
    "    --saveEngine={model_name}_fp32.trt \\\n",
    "    --optShapes=input:1x3x224x224 \\\n",
    "    --skipInference"
   ]
  },
  {
   "cell_type": "markdown",
   "metadata": {},
   "source": [
    "##### Run fp16 conversion (ViT)"
   ]
  },
  {
   "cell_type": "code",
   "execution_count": null,
   "metadata": {},
   "outputs": [],
   "source": [
    "!trtexec \\\n",
    "    --onnx={model_name}.onnx \\\n",
    "    --saveEngine={model_name}_fp16.trt \\\n",
    "    --optShapes=input:1x3x224x224 \\\n",
    "    --fp16 \\\n",
    "    --skipInference"
   ]
  }
 ],
 "metadata": {
  "kernelspec": {
   "display_name": "DeepVisionXplain",
   "language": "python",
   "name": "python3"
  },
  "language_info": {
   "codemirror_mode": {
    "name": "ipython",
    "version": 3
   },
   "file_extension": ".py",
   "mimetype": "text/x-python",
   "name": "python",
   "nbconvert_exporter": "python",
   "pygments_lexer": "ipython3",
   "version": "3.11.11"
  }
 },
 "nbformat": 4,
 "nbformat_minor": 2
}
