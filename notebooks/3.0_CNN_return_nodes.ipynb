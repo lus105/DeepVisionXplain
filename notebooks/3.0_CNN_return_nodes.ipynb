{
 "cells": [
  {
   "cell_type": "code",
   "execution_count": null,
   "metadata": {},
   "outputs": [],
   "source": [
    "import torch\n",
    "import torchinfo\n",
    "from torchvision.models.feature_extraction import (\n",
    "    get_graph_node_names,\n",
    "    create_feature_extractor,\n",
    ")\n",
    "from torchvision.models import mobilenet_v3_large, efficientnet_v2_s"
   ]
  },
  {
   "cell_type": "code",
   "execution_count": null,
   "metadata": {},
   "outputs": [],
   "source": [
    "device = torch.device(\"cuda\" if torch.cuda.is_available() else \"cpu\")\n",
    "input_shape = (1, 3, 224, 224)\n",
    "dummy_input = torch.randn(input_shape).to(device)"
   ]
  },
  {
   "cell_type": "markdown",
   "metadata": {},
   "source": [
    "#### efficientnet_v2_s"
   ]
  },
  {
   "cell_type": "code",
   "execution_count": null,
   "metadata": {},
   "outputs": [],
   "source": [
    "pretrained_model = efficientnet_v2_s()\n",
    "names = get_graph_node_names(pretrained_model)[1]\n",
    "print(\"Node names (eval):\", names)"
   ]
  },
  {
   "cell_type": "code",
   "execution_count": null,
   "metadata": {},
   "outputs": [],
   "source": [
    "torchinfo.summary(\n",
    "    pretrained_model,\n",
    "    input_shape[1:],\n",
    "    batch_dim=0,\n",
    "    col_names=(\"input_size\", \"output_size\", \"num_params\", \"kernel_size\", \"mult_adds\"),\n",
    "    verbose=0,\n",
    "    depth=6,\n",
    ")"
   ]
  },
  {
   "cell_type": "code",
   "execution_count": null,
   "metadata": {},
   "outputs": [],
   "source": [
    "model = create_feature_extractor(\n",
    "    pretrained_model, return_nodes={\"features.7\": \"layerout\"}\n",
    ").to(device)\n",
    "with torch.no_grad():\n",
    "    output = model(dummy_input)\n",
    "print(output[\"layerout\"].shape)"
   ]
  },
  {
   "cell_type": "code",
   "execution_count": null,
   "metadata": {},
   "outputs": [],
   "source": [
    "model = create_feature_extractor(\n",
    "    pretrained_model, return_nodes={\"features.6.0.block.0\": \"layerout\"}\n",
    ").to(device)\n",
    "with torch.no_grad():\n",
    "    output = model(dummy_input)\n",
    "print(output[\"layerout\"].shape)"
   ]
  },
  {
   "cell_type": "markdown",
   "metadata": {},
   "source": [
    "#### mobilenet_v3_large"
   ]
  },
  {
   "cell_type": "code",
   "execution_count": null,
   "metadata": {},
   "outputs": [],
   "source": [
    "pretrained_model = mobilenet_v3_large()\n",
    "names = get_graph_node_names(pretrained_model)[1]\n",
    "print(\"Node names (eval):\", names)"
   ]
  },
  {
   "cell_type": "code",
   "execution_count": null,
   "metadata": {},
   "outputs": [],
   "source": [
    "torchinfo.summary(\n",
    "    pretrained_model,\n",
    "    input_shape[1:],\n",
    "    batch_dim=0,\n",
    "    col_names=(\"input_size\", \"output_size\", \"num_params\", \"kernel_size\", \"mult_adds\"),\n",
    "    verbose=0,\n",
    "    depth=6,\n",
    ")"
   ]
  },
  {
   "cell_type": "code",
   "execution_count": null,
   "metadata": {},
   "outputs": [],
   "source": [
    "model = create_feature_extractor(\n",
    "    pretrained_model, return_nodes={\"features.16\": \"layerout\"}\n",
    ").to(device)\n",
    "with torch.no_grad():\n",
    "    output = model(dummy_input)\n",
    "print(output[\"layerout\"].shape)"
   ]
  },
  {
   "cell_type": "code",
   "execution_count": null,
   "metadata": {},
   "outputs": [],
   "source": [
    "model = create_feature_extractor(\n",
    "    pretrained_model, return_nodes={\"features.13.block.0\": \"layerout\"}\n",
    ").to(device)\n",
    "with torch.no_grad():\n",
    "    output = model(dummy_input)\n",
    "print(output[\"layerout\"].shape)"
   ]
  }
 ],
 "metadata": {
  "kernelspec": {
   "display_name": "DeepVisionXplain",
   "language": "python",
   "name": "python3"
  },
  "language_info": {
   "codemirror_mode": {
    "name": "ipython",
    "version": 3
   },
   "file_extension": ".py",
   "mimetype": "text/x-python",
   "name": "python",
   "nbconvert_exporter": "python",
   "pygments_lexer": "ipython3",
   "version": "3.11.7"
  }
 },
 "nbformat": 4,
 "nbformat_minor": 2
}
