{
 "cells": [
  {
   "cell_type": "code",
   "execution_count": 1,
   "metadata": {},
   "outputs": [],
   "source": [
    "import os\n",
    "import cv2\n",
    "import numpy as np\n",
    "import rootutils\n",
    "from pathlib import Path\n",
    "\n",
    "rootutils.setup_root(\n",
    "    os.path.abspath(''), indicator=['.git', 'pyproject.toml'], pythonpath=True\n",
    ")\n",
    "\n",
    "from src.data.components.utils import find_file_by_name"
   ]
  },
  {
   "cell_type": "code",
   "execution_count": 2,
   "metadata": {},
   "outputs": [],
   "source": [
    "def blur_background(image: np.array, background_mask: np.array) -> np.array:\n",
    "    if background_mask is None or background_mask.size == 0:\n",
    "        raise ValueError(\"The provided mask is empty or invalid.\")\n",
    "    blurred = cv2.GaussianBlur(image, (61, 61), 100)\n",
    "    _, binary_mask = cv2.threshold(background_mask, 128, 255, cv2.THRESH_BINARY)\n",
    "    binary_mask = cv2.cvtColor(binary_mask, cv2.COLOR_GRAY2BGR)\n",
    "    inverted_mask = cv2.bitwise_not(binary_mask)\n",
    "    blurred_outside = cv2.bitwise_and(blurred, inverted_mask)\n",
    "    original_inside = cv2.bitwise_and(image, binary_mask)\n",
    "    result = cv2.add(original_inside, blurred_outside)\n",
    "\n",
    "    return result"
   ]
  },
  {
   "cell_type": "code",
   "execution_count": 7,
   "metadata": {},
   "outputs": [],
   "source": [
    "file_names = [\n",
    "    '20231004225948-024130155-AC FS Camera Left 1',\n",
    "    '20231004225947-024130155-AC FS Camera Left 2',\n",
    "    '20231004225947-024130155-AC FS Camera Right 1',\n",
    "    '20231004225947-024130155-AC FS Camera Right 2'\n",
    "]\n",
    "\n",
    "data_path = Path(os.environ.get('lear_wrinkles_data_path'))\n",
    "image_path = data_path / 'Photos'\n",
    "mask_path = data_path / 'Outline'\n",
    "\n",
    "output_path = Path('output2/')\n",
    "output_path.mkdir(parents=True, exist_ok=True)\n",
    "\n",
    "for file_name in file_names:\n",
    "    image = cv2.imread(find_file_by_name(image_path, file_name), cv2.IMREAD_COLOR)\n",
    "    mask = cv2.imread(find_file_by_name(mask_path, file_name + '_mask'), cv2.IMREAD_GRAYSCALE)\n",
    "    blurred_image = blur_background(image, mask)\n",
    "    cv2.imwrite(output_path / (file_name + '.png'), blurred_image)"
   ]
  },
  {
   "cell_type": "code",
   "execution_count": null,
   "metadata": {},
   "outputs": [],
   "source": []
  }
 ],
 "metadata": {
  "kernelspec": {
   "display_name": "DeepVisionXplain",
   "language": "python",
   "name": "python3"
  },
  "language_info": {
   "codemirror_mode": {
    "name": "ipython",
    "version": 3
   },
   "file_extension": ".py",
   "mimetype": "text/x-python",
   "name": "python",
   "nbconvert_exporter": "python",
   "pygments_lexer": "ipython3",
   "version": "3.11.11"
  }
 },
 "nbformat": 4,
 "nbformat_minor": 2
}
