{
 "cells": [
  {
   "cell_type": "code",
   "execution_count": 1,
   "metadata": {},
   "outputs": [
    {
     "data": {
      "text/plain": [
       "True"
      ]
     },
     "execution_count": 1,
     "metadata": {},
     "output_type": "execute_result"
    }
   ],
   "source": [
    "import os\n",
    "import cv2\n",
    "import numpy as np\n",
    "import rootutils\n",
    "from pathlib import Path\n",
    "from dotenv import load_dotenv\n",
    "\n",
    "rootutils.setup_root(\n",
    "    os.path.abspath(''), indicator=['.git', 'pyproject.toml'], pythonpath=True\n",
    ")\n",
    "\n",
    "from src.data.components.utils import list_files, IMAGE_EXTENSIONS\n",
    "from src.data.components.preprocessing.preproc_strategy_tile import sliding_window_with_coordinates\n",
    "\n",
    "load_dotenv()"
   ]
  },
  {
   "cell_type": "markdown",
   "metadata": {},
   "source": [
    "#### Step 1. Extract and align regions"
   ]
  },
  {
   "cell_type": "code",
   "execution_count": null,
   "metadata": {},
   "outputs": [],
   "source": [
    "def extract_and_align_regions(image: np.array, mask: np.array, output_path: Path, image_name: str) -> None:\n",
    "    # Ensure the mask is binary\n",
    "    _, mask = cv2.threshold(mask, 127, 255, cv2.THRESH_BINARY)\n",
    "    # Compute the bounding box of the mask\n",
    "    x, y, w, h = cv2.boundingRect(mask)\n",
    "    # Compute the center of the bounding box\n",
    "    bbox_cx, bbox_cy = x + w // 2, y + h // 2  # (x, y) coordinates\n",
    "    # Create an empty black image of the same size\n",
    "    H, W = image.shape[:2]\n",
    "    output = np.zeros_like(image)\n",
    "    # Extract the masked region from the original image\n",
    "    masked_region = cv2.bitwise_and(image, image, mask=mask)\n",
    "    # Compute the new center position (center of output image)\n",
    "    new_cx, new_cy = W // 2, H // 2  # Image center\n",
    "    # Compute translation offsets\n",
    "    dx, dy = int(new_cx - bbox_cx), int(new_cy - bbox_cy)\n",
    "    # Create a translation matrix\n",
    "    M = np.float32([[1, 0, dx], [0, 1, dy]])\n",
    "    # Move the masked region to the new position\n",
    "    moved_masked_region = cv2.warpAffine(masked_region, M, (W, H))\n",
    "    # Move the mask itself to match the new position\n",
    "    moved_mask = cv2.warpAffine(mask, M, (W, H))\n",
    "    # Combine only the valid (non-zero) parts into the output image\n",
    "    output[moved_mask > 0] = moved_masked_region[moved_mask > 0]\n",
    "    # save the output image\n",
    "    cv2.imwrite(str(output_path / image_name), output)"
   ]
  },
  {
   "cell_type": "code",
   "execution_count": 2,
   "metadata": {},
   "outputs": [],
   "source": [
    "data_path = Path(os.environ.get('lear_good_data_path'))"
   ]
  },
  {
   "cell_type": "code",
   "execution_count": null,
   "metadata": {},
   "outputs": [],
   "source": [
    "image_path = data_path / 'front'\n",
    "mask_path = data_path / 'front_mask'\n",
    "output_path = data_path / 'front_aligned'\n",
    "output_path.mkdir(exist_ok=True, parents=True)\n",
    "\n",
    "# Gather images\n",
    "image_paths = list_files(image_path, file_extensions=IMAGE_EXTENSIONS)\n",
    "\n",
    "# Run the extraction and alignment process\n",
    "for image_path in image_paths:\n",
    "    image = cv2.imread(str(image_path), cv2.IMREAD_COLOR)\n",
    "    mask = cv2.imread(str(mask_path / image_path.name), cv2.IMREAD_GRAYSCALE)\n",
    "    extract_and_align_regions(image, mask, output_path, image_path.name)"
   ]
  },
  {
   "cell_type": "markdown",
   "metadata": {},
   "source": [
    "#### Step 2. Extract tiles in consistent regions"
   ]
  },
  {
   "cell_type": "code",
   "execution_count": 7,
   "metadata": {},
   "outputs": [],
   "source": [
    "def is_background(image: np.ndarray, background_perc: float) -> bool:\n",
    "    \"\"\"\n",
    "    Determines if an image has a background percentage of black pixels\n",
    "    greater than the specified threshold.\n",
    "\n",
    "    Args:\n",
    "        background_perc (float): The threshold percentage for black pixels.\n",
    "\n",
    "    Returns:\n",
    "        bool: True if the percentage of black pixels is greater than the threshold, False otherwise.\n",
    "    \"\"\"\n",
    "    black_pixels = np.all(image == 0, axis=-1)\n",
    "    black_pixel_count = np.sum(black_pixels)\n",
    "    total_pixels = image.shape[0] * image.shape[1]\n",
    "    black_pixel_percentage = black_pixel_count / total_pixels\n",
    "    return black_pixel_percentage > background_perc"
   ]
  },
  {
   "cell_type": "code",
   "execution_count": null,
   "metadata": {},
   "outputs": [],
   "source": [
    "tile_path = data_path / 'front_tiles_512'\n",
    "tile_path.mkdir(exist_ok=True, parents=True)\n",
    "\n",
    "image_path = data_path / 'front_aligned'\n",
    "image_paths = list_files(image_path, file_extensions=IMAGE_EXTENSIONS)\n",
    "\n",
    "background_th = 0.8\n",
    "tile_size = (512, 512)\n",
    "overlap = 20\n",
    "\n",
    "for img_path in image_paths:\n",
    "    image = cv2.imread(str(img_path), cv2.IMREAD_COLOR)\n",
    "    for tile, coordinates in sliding_window_with_coordinates(image, tile_size=tile_size, overlap=overlap):\n",
    "        # calcaulte center of the tile\n",
    "        x_st, y_st, x_en, y_en = coordinates\n",
    "        cx = (x_st + x_en) // 2\n",
    "        cy = (y_st + y_en) // 2\n",
    "        # if tile has background, skip\n",
    "        if is_background(tile, background_th):\n",
    "            continue\n",
    "        # make directory with tile center name\n",
    "        tile_dir = tile_path / f'{cx}_{cy}'\n",
    "        tile_dir.mkdir(exist_ok=True, parents=True)\n",
    "        # save the tile\n",
    "        cv2.imwrite(str(tile_dir / f'{img_path.stem}_tile.png'), tile)"
   ]
  }
 ],
 "metadata": {
  "kernelspec": {
   "display_name": "DeepVisionXplain",
   "language": "python",
   "name": "python3"
  },
  "language_info": {
   "codemirror_mode": {
    "name": "ipython",
    "version": 3
   },
   "file_extension": ".py",
   "mimetype": "text/x-python",
   "name": "python",
   "nbconvert_exporter": "python",
   "pygments_lexer": "ipython3",
   "version": "3.11.11"
  }
 },
 "nbformat": 4,
 "nbformat_minor": 2
}
