{
 "cells": [
  {
   "cell_type": "code",
   "execution_count": 1,
   "metadata": {},
   "outputs": [
    {
     "name": "stderr",
     "output_type": "stream",
     "text": [
      "c:\\Users\\lukas\\anaconda3\\envs\\DeepVisionXplain\\Lib\\site-packages\\tqdm\\auto.py:21: TqdmWarning: IProgress not found. Please update jupyter and ipywidgets. See https://ipywidgets.readthedocs.io/en/stable/user_install.html\n",
      "  from .autonotebook import tqdm as notebook_tqdm\n",
      "Fetching 5 files: 100%|██████████| 5/5 [00:00<?, ?it/s]\n",
      "Fetching 5 files: 100%|██████████| 5/5 [00:00<?, ?it/s]\n",
      "Fetching 5 files: 100%|██████████| 5/5 [00:00<?, ?it/s]\n",
      "Fetching 5 files: 100%|██████████| 5/5 [00:00<?, ?it/s]\n",
      "Fetching 5 files: 100%|██████████| 5/5 [00:00<?, ?it/s]\n",
      "Fetching 5 files: 100%|██████████| 5/5 [00:00<?, ?it/s]\n",
      "Fetching 5 files: 100%|██████████| 5/5 [00:00<00:00, 4532.42it/s]\n",
      "Fetching 5 files: 100%|██████████| 5/5 [00:00<?, ?it/s]\n",
      "Fetching 5 files: 100%|██████████| 5/5 [00:00<?, ?it/s]\n",
      "Fetching 5 files: 100%|██████████| 5/5 [00:00<?, ?it/s]\n",
      "Fetching 5 files: 100%|██████████| 5/5 [00:00<?, ?it/s]\n",
      "Fetching 4 files: 100%|██████████| 4/4 [00:00<?, ?it/s]\n"
     ]
    }
   ],
   "source": [
    "import os\n",
    "from dotenv import load_dotenv\n",
    "from pathlib import Path\n",
    "from huggingface_hub import snapshot_download\n",
    "\n",
    "models_list = [\n",
    "    'DeepVisionXplain/deit_tiny_patch16_224.fb_in1k_pcb',\n",
    "    'DeepVisionXplain/deit_tiny_patch16_224.fb_in1k_gears',\n",
    "    'DeepVisionXplain/vit_tiny_patch16_224.augreg_in21k_ft_in1k_gears',\n",
    "    'DeepVisionXplain/vit_tiny_patch16_224.augreg_in21k_ft_in1k_pcb',\n",
    "    'DeepVisionXplain/efficientnet_v2_s_downscaled_gears',\n",
    "    'DeepVisionXplain/efficientnet_v2_s_full_gears',\n",
    "    'DeepVisionXplain/mobilenet_v3_large_downscaled_gears',\n",
    "    'DeepVisionXplain/mobilenet_v3_large_full_gears',\n",
    "    'DeepVisionXplain/efficientnet_v2_s_downscaled_pcb',\n",
    "    'DeepVisionXplain/efficientnet_v2_s_full_pcb',\n",
    "    'DeepVisionXplain/mobilenet_v3_large_downscaled_pcb',\n",
    "    'DeepVisionXplain/mobilenet_v3_large_full_pcb'\n",
    "]\n",
    "\n",
    "# loading .env variables\n",
    "load_dotenv()\n",
    "\n",
    "# make sure hf_token is set in .env file\n",
    "hf_token = os.environ.get(\"hf_token\")\n",
    "\n",
    "# create model path\n",
    "model_path = Path(\"../trained_models/\")\n",
    "model_path.mkdir(exist_ok=True)\n",
    "\n",
    "# download models from huggingface hub\n",
    "for model in models_list:\n",
    "    snapshot_download(\n",
    "        model,\n",
    "        token=hf_token,\n",
    "        cache_dir=model_path,\n",
    "    )"
   ]
  }
 ],
 "metadata": {
  "kernelspec": {
   "display_name": "DeepVisionXplain",
   "language": "python",
   "name": "python3"
  },
  "language_info": {
   "codemirror_mode": {
    "name": "ipython",
    "version": 3
   },
   "file_extension": ".py",
   "mimetype": "text/x-python",
   "name": "python",
   "nbconvert_exporter": "python",
   "pygments_lexer": "ipython3",
   "version": "3.11.7"
  }
 },
 "nbformat": 4,
 "nbformat_minor": 2
}
