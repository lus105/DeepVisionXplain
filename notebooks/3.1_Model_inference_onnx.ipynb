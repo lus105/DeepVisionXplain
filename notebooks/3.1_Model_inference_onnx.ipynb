{
 "cells": [
  {
   "cell_type": "markdown",
   "metadata": {},
   "source": [
    "Before running inference:\n",
    "1. Run [3.0_Model_conversion_onnx.ipynb](3.0_Model_conversion_onnx.ipynb) to convert .pth model files into .onnx."
   ]
  },
  {
   "cell_type": "code",
   "execution_count": 1,
   "metadata": {},
   "outputs": [],
   "source": [
    "import numpy as np\n",
    "import onnxruntime as ort\n",
    "import cv2\n",
    "from PIL import Image\n",
    "from IPython.display import display\n",
    "import torchvision.transforms as transforms"
   ]
  },
  {
   "cell_type": "code",
   "execution_count": 2,
   "metadata": {},
   "outputs": [],
   "source": [
    "def apply_cm(\n",
    "    image: np.array, map: np.array, threshold: float = 0.5, alpha: float = 0.5\n",
    ") -> np.array:\n",
    "    \"\"\"Apply color map on image\n",
    "\n",
    "    Args:\n",
    "        image (np.array): Image\n",
    "        map (np.array): Grayscale, unnormalized cm.\n",
    "        threshold (float, optional): Threshold for map. Defaults to 0.5.\n",
    "        alpha (float, optional): Transparency. Defaults to 0.5.\n",
    "\n",
    "    Returns:\n",
    "        np.array: Image with applied cm.\n",
    "    \"\"\"\n",
    "    map_thresholded = np.where(map > threshold, 1, 0)\n",
    "    map_thresholded = (map_thresholded * 255).astype(np.uint8)\n",
    "    map_thresholded = cv2.cvtColor(map_thresholded, cv2.COLOR_GRAY2RGB)\n",
    "\n",
    "    map_normalized = cv2.normalize(\n",
    "        map, None, alpha=0, beta=255, norm_type=cv2.NORM_MINMAX, dtype=cv2.CV_8U\n",
    "    )\n",
    "    map_colored = cv2.applyColorMap(map_normalized, cv2.COLORMAP_JET)\n",
    "    blended_image = cv2.addWeighted(image, 1 - alpha, map_colored, alpha, 0)\n",
    "\n",
    "    return blended_image"
   ]
  },
  {
   "cell_type": "code",
   "execution_count": 3,
   "metadata": {},
   "outputs": [],
   "source": [
    "def display_img_with_map(out: np.array, map: np.array, image: np.array) -> None:\n",
    "    \"\"\"Displays image with explainability map.\n",
    "\n",
    "    Args:\n",
    "        out (np.array): Neural network prediction.\n",
    "        map (np.array): Neural network explainability output.\n",
    "        image (np.array): Original inference image.\n",
    "    \"\"\"\n",
    "    preds = out > 0.5\n",
    "    for i, pred in enumerate(preds):\n",
    "        map_segmentation = map[i] if pred == 1 else np.zeros_like(map[i])\n",
    "        if pred == 1:\n",
    "            map_segmentation = (map_segmentation - map_segmentation.min()) / (\n",
    "                map_segmentation.max() - map_segmentation.min()\n",
    "            )\n",
    "        blended_img = apply_cm(image, map_segmentation)\n",
    "\n",
    "        # Only for displaying\n",
    "        blended_img = cv2.cvtColor(blended_img, cv2.COLOR_BGR2RGB)\n",
    "        display(Image.fromarray(blended_img))"
   ]
  },
  {
   "cell_type": "code",
   "execution_count": null,
   "metadata": {},
   "outputs": [],
   "source": [
    "image = cv2.imread('../docs/sample_data/01_short_04_1926_1070.png', cv2.IMREAD_COLOR)\n",
    "image = cv2.cvtColor(image, cv2.COLOR_BGR2RGB)\n",
    "display(Image.fromarray(image))\n",
    "label = cv2.imread(\n",
    "    '../docs/sample_data/01_short_04_1926_1070_label.png', cv2.IMREAD_GRAYSCALE\n",
    ")\n",
    "display(Image.fromarray(label))"
   ]
  },
  {
   "cell_type": "code",
   "execution_count": 5,
   "metadata": {},
   "outputs": [],
   "source": [
    "transform = transforms.Compose([transforms.ToTensor()])\n",
    "image_tensor = transform(image).unsqueeze(0)"
   ]
  },
  {
   "cell_type": "code",
   "execution_count": null,
   "metadata": {},
   "outputs": [],
   "source": [
    "# List available execution providers\n",
    "print('Available execution providers:', ort.get_available_providers())"
   ]
  },
  {
   "cell_type": "code",
   "execution_count": 7,
   "metadata": {},
   "outputs": [],
   "source": [
    "onnx_file_path = 'efficientnet_v2_s_downscaled_pcb.onnx'\n",
    "session = ort.InferenceSession(onnx_file_path, providers=['CUDAExecutionProvider'])\n",
    "input = image_tensor.numpy()\n",
    "input_name = session.get_inputs()[0].name\n",
    "output_names = [output.name for output in session.get_outputs()]"
   ]
  },
  {
   "cell_type": "code",
   "execution_count": null,
   "metadata": {},
   "outputs": [],
   "source": [
    "%%timeit\n",
    "session.run(output_names, {input_name: input})"
   ]
  },
  {
   "cell_type": "code",
   "execution_count": null,
   "metadata": {},
   "outputs": [],
   "source": [
    "outputs = session.run(output_names, {input_name: input})\n",
    "display_img_with_map(outputs[0], outputs[1], image)"
   ]
  },
  {
   "cell_type": "code",
   "execution_count": 14,
   "metadata": {},
   "outputs": [],
   "source": [
    "onnx_file_path = 'vit_tiny_patch16_224.augreg_in21k_ft_in1k_pcb.onnx'\n",
    "session = ort.InferenceSession(onnx_file_path, providers=['CUDAExecutionProvider'])\n",
    "input = image_tensor.numpy()\n",
    "input_name = session.get_inputs()[0].name\n",
    "output_names = [output.name for output in session.get_outputs()]\n"
   ]
  },
  {
   "cell_type": "code",
   "execution_count": null,
   "metadata": {},
   "outputs": [],
   "source": [
    "%%timeit\n",
    "session.run(output_names, {input_name: input})"
   ]
  },
  {
   "cell_type": "code",
   "execution_count": null,
   "metadata": {},
   "outputs": [],
   "source": [
    "outputs = session.run(output_names, {input_name: input})\n",
    "display_img_with_map(outputs[0], outputs[1], image)"
   ]
  }
 ],
 "metadata": {
  "kernelspec": {
   "display_name": "DeepVisionXplain",
   "language": "python",
   "name": "python3"
  },
  "language_info": {
   "codemirror_mode": {
    "name": "ipython",
    "version": 3
   },
   "file_extension": ".py",
   "mimetype": "text/x-python",
   "name": "python",
   "nbconvert_exporter": "python",
   "pygments_lexer": "ipython3",
   "version": "3.11.11"
  }
 },
 "nbformat": 4,
 "nbformat_minor": 2
}
