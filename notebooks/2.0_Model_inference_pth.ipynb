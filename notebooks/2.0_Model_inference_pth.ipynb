{
 "cells": [
  {
   "cell_type": "markdown",
   "metadata": {},
   "source": [
    "#### Necessary imports"
   ]
  },
  {
   "cell_type": "code",
   "execution_count": 1,
   "metadata": {},
   "outputs": [],
   "source": [
    "import os\n",
    "import cv2\n",
    "import rootutils\n",
    "import numpy as np\n",
    "from PIL import Image\n",
    "from IPython.display import display\n",
    "\n",
    "import torch\n",
    "import torchvision.transforms as transforms\n",
    "\n",
    "# adding root to python path\n",
    "rootutils.setup_root(\n",
    "    os.path.abspath(''), indicator=['.git', 'pyproject.toml'], pythonpath=True\n",
    ")\n",
    "\n",
    "from src.models.components.cnn_cam_multihead import CNNCAMMultihead\n",
    "from src.models.components.vit_rollout_multihead import VitRolloutMultihead\n",
    "from src.models.components.nn_utils import weight_load"
   ]
  },
  {
   "cell_type": "markdown",
   "metadata": {},
   "source": [
    "#### Helper functions"
   ]
  },
  {
   "cell_type": "code",
   "execution_count": 2,
   "metadata": {},
   "outputs": [],
   "source": [
    "def apply_cm(\n",
    "    image: np.array, map: np.array, threshold: float = 0.5, alpha: float = 0.5\n",
    ") -> np.array:\n",
    "    \"\"\"Apply color map on image\n",
    "\n",
    "    Args:\n",
    "        image (np.array): Image\n",
    "        map (np.array): Grayscale, unnormalized cm.\n",
    "        threshold (float, optional): Threshold for map. Defaults to 0.5.\n",
    "        alpha (float, optional): Transparency. Defaults to 0.5.\n",
    "\n",
    "    Returns:\n",
    "        np.array: Image with applied cm.\n",
    "    \"\"\"\n",
    "    map_thresholded = np.where(map > threshold, 1, 0)\n",
    "    map_thresholded = (map_thresholded * 255).astype(np.uint8)\n",
    "    map_thresholded = cv2.cvtColor(map_thresholded, cv2.COLOR_GRAY2RGB)\n",
    "\n",
    "    map_normalized = cv2.normalize(\n",
    "        map, None, alpha=0, beta=255, norm_type=cv2.NORM_MINMAX, dtype=cv2.CV_8U\n",
    "    )\n",
    "    map_colored = cv2.applyColorMap(map_normalized, cv2.COLORMAP_JET)\n",
    "    blended_image = cv2.addWeighted(image, 1 - alpha, map_colored, alpha, 0)\n",
    "\n",
    "    return blended_image"
   ]
  },
  {
   "cell_type": "code",
   "execution_count": 3,
   "metadata": {},
   "outputs": [],
   "source": [
    "def display_img_with_map(out: torch.tensor, map: torch.tensor, image: np.array) -> None:\n",
    "    \"\"\"Displays image with explainability map.\n",
    "\n",
    "    Args:\n",
    "        out (torch.tensor): Neural network prediction.\n",
    "        map (torch.tensor): Neural network explainability output.\n",
    "        image (np.array): Original inference image.\n",
    "    \"\"\"\n",
    "    preds = (out > 0.5).float()\n",
    "    for i, pred in enumerate(preds):\n",
    "        map_segmentation = map[i] if pred == 1 else torch.zeros_like(map[i])\n",
    "        if pred == 1:\n",
    "            map_segmentation = (map_segmentation - map_segmentation.min()) / (\n",
    "                map_segmentation.max() - map_segmentation.min()\n",
    "            )\n",
    "        map_segmentation = map_segmentation.cpu().numpy()\n",
    "        blended_img = apply_cm(image, map_segmentation)\n",
    "\n",
    "        # Only for displaying\n",
    "        blended_img = cv2.cvtColor(blended_img, cv2.COLOR_BGR2RGB)\n",
    "        display(Image.fromarray(blended_img))"
   ]
  },
  {
   "cell_type": "markdown",
   "metadata": {},
   "source": [
    "#### Load sample images"
   ]
  },
  {
   "cell_type": "code",
   "execution_count": null,
   "metadata": {},
   "outputs": [],
   "source": [
    "image = cv2.imread('../docs/sample_data/01_short_04_1926_1070.png', cv2.IMREAD_COLOR)\n",
    "image = cv2.cvtColor(image, cv2.COLOR_BGR2RGB)\n",
    "display(Image.fromarray(image))\n",
    "label = cv2.imread(\n",
    "    '../docs/sample_data/01_short_04_1926_1070_label.png', cv2.IMREAD_GRAYSCALE\n",
    ")\n",
    "display(Image.fromarray(label))"
   ]
  },
  {
   "cell_type": "markdown",
   "metadata": {},
   "source": [
    "#### Device setup"
   ]
  },
  {
   "cell_type": "code",
   "execution_count": null,
   "metadata": {},
   "outputs": [],
   "source": [
    "device = torch.device('cuda' if torch.cuda.is_available() else 'cpu')\n",
    "print(device)"
   ]
  },
  {
   "cell_type": "markdown",
   "metadata": {},
   "source": [
    "#### Transforms"
   ]
  },
  {
   "cell_type": "code",
   "execution_count": 6,
   "metadata": {},
   "outputs": [],
   "source": [
    "transform = transforms.Compose([transforms.ToTensor()])\n",
    "image_tensor = transform(image).unsqueeze(0).to(device)"
   ]
  },
  {
   "cell_type": "markdown",
   "metadata": {},
   "source": [
    "#### CNN with cam output"
   ]
  },
  {
   "cell_type": "code",
   "execution_count": null,
   "metadata": {},
   "outputs": [],
   "source": [
    "model = CNNCAMMultihead(\n",
    "    backbone='torchvision.models/efficientnet_v2_s',\n",
    "    return_node='features.6.0.block.0',\n",
    "    multi_head=True,\n",
    ").to(device)\n",
    "weights = weight_load(\n",
    "    ckpt_path='../trained_models/models--DeepVisionXplain--efficientnet_v2_s_downscaled_pcb/',\n",
    "    weights_only=True,\n",
    ")\n",
    "model.load_state_dict(weights)\n",
    "model.eval()"
   ]
  },
  {
   "cell_type": "code",
   "execution_count": null,
   "metadata": {},
   "outputs": [],
   "source": [
    "%%timeit\n",
    "with torch.no_grad():\n",
    "    model(image_tensor)"
   ]
  },
  {
   "cell_type": "code",
   "execution_count": null,
   "metadata": {},
   "outputs": [],
   "source": [
    "with torch.no_grad():\n",
    "    out, map = model(image_tensor)\n",
    "display_img_with_map(out, map, image)"
   ]
  },
  {
   "cell_type": "markdown",
   "metadata": {},
   "source": [
    "#### ViT with attention rollout output"
   ]
  },
  {
   "cell_type": "code",
   "execution_count": null,
   "metadata": {},
   "outputs": [],
   "source": [
    "model = VitRolloutMultihead(\n",
    "    backbone='timm/vit_tiny_patch16_224.augreg_in21k_ft_in1k', multi_head=True\n",
    ").to(device)\n",
    "weights = weight_load(\n",
    "    ckpt_path='../trained_models/models--DeepVisionXplain--vit_tiny_patch16_224.augreg_in21k_ft_in1k_pcb/',\n",
    "    weights_only=True,\n",
    ")\n",
    "model.load_state_dict(weights)\n",
    "model.eval()"
   ]
  },
  {
   "cell_type": "code",
   "execution_count": null,
   "metadata": {},
   "outputs": [],
   "source": [
    "%%timeit\n",
    "with torch.no_grad():\n",
    "    model(image_tensor)"
   ]
  },
  {
   "cell_type": "code",
   "execution_count": null,
   "metadata": {},
   "outputs": [],
   "source": [
    "with torch.no_grad():\n",
    "    out, map = model(image_tensor)\n",
    "display_img_with_map(out, map, image)"
   ]
  }
 ],
 "metadata": {
  "kernelspec": {
   "display_name": "DeepVisionXplain",
   "language": "python",
   "name": "python3"
  },
  "language_info": {
   "codemirror_mode": {
    "name": "ipython",
    "version": 3
   },
   "file_extension": ".py",
   "mimetype": "text/x-python",
   "name": "python",
   "nbconvert_exporter": "python",
   "pygments_lexer": "ipython3",
   "version": "3.11.11"
  }
 },
 "nbformat": 4,
 "nbformat_minor": 2
}
