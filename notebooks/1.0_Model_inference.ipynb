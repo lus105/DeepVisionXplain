{
 "cells": [
  {
   "cell_type": "code",
   "execution_count": null,
   "metadata": {},
   "outputs": [],
   "source": [
    "import os\n",
    "import rootutils\n",
    "import torch\n",
    "\n",
    "root_dir = os.path.abspath(\"..\")\n",
    "rootutils.setup_root(root_dir, indicator=[\".git\", \"pyproject.toml\"], pythonpath=True)\n",
    "\n",
    "from src.models.components.cnn_cam_multihead import CNNCAMMultihead\n",
    "from src.models.components.vit_rollout_multihead import VitRolloutMultihead"
   ]
  },
  {
   "cell_type": "code",
   "execution_count": null,
   "metadata": {},
   "outputs": [],
   "source": [
    "device = torch.device(\"cuda\" if torch.cuda.is_available() else \"cpu\")\n",
    "print(device)"
   ]
  },
  {
   "cell_type": "code",
   "execution_count": null,
   "metadata": {},
   "outputs": [],
   "source": [
    "cnn_model = CNNCAMMultihead(backbone = \"torchvision.models/mobilenet_v3_large\", multi_head=True).to(device)\n",
    "cnn_model.eval()\n",
    "dummy_input = torch.randn(10, 3, 224, 224).to(device)\n",
    "with torch.no_grad():\n",
    "    out, cam = cnn_model(dummy_input)\n",
    "print(\"Output shape: \", out.shape)\n",
    "print(\"Explainability output shape: \", cam.shape)   "
   ]
  },
  {
   "cell_type": "code",
   "execution_count": null,
   "metadata": {},
   "outputs": [],
   "source": [
    "vit_model = VitRolloutMultihead(model_name = \"timm/vit_tiny_patch16_224.augreg_in21k_ft_in1k\", multi_head=True).to(device)\n",
    "vit_model.eval()\n",
    "dummy_input = torch.randn(10, 3, 224, 224).to(device)\n",
    "with torch.no_grad():\n",
    "    out, map = vit_model(dummy_input)\n",
    "print(\"Output shape: \", out.shape)\n",
    "print(\"Explainability output shape: \", map.shape)"
   ]
  }
 ],
 "metadata": {
  "kernelspec": {
   "display_name": "DeepVisionXplain",
   "language": "python",
   "name": "python3"
  },
  "language_info": {
   "codemirror_mode": {
    "name": "ipython",
    "version": 3
   },
   "file_extension": ".py",
   "mimetype": "text/x-python",
   "name": "python",
   "nbconvert_exporter": "python",
   "pygments_lexer": "ipython3",
   "version": "3.11.7"
  }
 },
 "nbformat": 4,
 "nbformat_minor": 2
}
