{
 "cells": [
  {
   "cell_type": "code",
   "execution_count": 1,
   "metadata": {},
   "outputs": [],
   "source": [
    "import numpy as np\n",
    "import umap\n",
    "import matplotlib.pyplot as plt"
   ]
  },
  {
   "cell_type": "code",
   "execution_count": 2,
   "metadata": {},
   "outputs": [],
   "source": [
    "def visualize_numpy_umap_with_labels(features: np.array, labels: np.array, discarded_indices: np.array = np.array([])):\n",
    "\n",
    "    # Apply UMAP for dimensionality reduction\n",
    "    embedding = umap.UMAP(n_components=2, random_state=42).fit_transform(features)\n",
    "    \n",
    "    cmap = plt.get_cmap(\"tab20\")\n",
    "    unique_labels = np.unique(labels)\n",
    "    colors = {label: cmap(i / len(unique_labels)) for i, label in enumerate(unique_labels)}\n",
    "\n",
    "    # Plot the results\n",
    "    plt.figure(figsize=(8, 6))\n",
    "    \n",
    "    # Plot normal points (excluding discarded)\n",
    "    for label in unique_labels:\n",
    "        idx = (labels == label) & ~np.isin(np.arange(len(labels)), discarded_indices)\n",
    "        plt.scatter(\n",
    "            embedding[idx, 0], embedding[idx, 1], \n",
    "            color=[colors[label]], label=f\"Class {label}\", s=20, alpha=0.7\n",
    "        )\n",
    "    \n",
    "    # Plot discarded points with same color but black outline\n",
    "    if discarded_indices.size > 0:\n",
    "        for label in unique_labels:\n",
    "            idx = (labels == label) & np.isin(np.arange(len(labels)), discarded_indices)\n",
    "            plt.scatter(\n",
    "                embedding[idx, 0], embedding[idx, 1], \n",
    "                color=[colors[label]], edgecolors=\"black\", linewidth=1.5, \n",
    "                s=50, alpha=0.9, label=f\"Discarded (Class {label})\"\n",
    "            )\n",
    "    \n",
    "    plt.title(\"UMAP Projection with Class Labels & Discarded Points\")\n",
    "    plt.xlabel(\"Component 1\")\n",
    "    plt.ylabel(\"Component 2\")\n",
    "    plt.legend()\n",
    "    plt.show()"
   ]
  },
  {
   "cell_type": "code",
   "execution_count": null,
   "metadata": {},
   "outputs": [],
   "source": [
    "features = np.load(\"features.npy\")\n",
    "labels = np.load(\"labels.npy\")[:, 0]\n",
    "discarded_indices = np.load(\"discarded_indices.npy\")\n",
    "\n",
    "visualize_numpy_umap_with_labels(features, labels, discarded_indices)"
   ]
  }
 ],
 "metadata": {
  "kernelspec": {
   "display_name": "DeepVisionXplain",
   "language": "python",
   "name": "python3"
  },
  "language_info": {
   "codemirror_mode": {
    "name": "ipython",
    "version": 3
   },
   "file_extension": ".py",
   "mimetype": "text/x-python",
   "name": "python",
   "nbconvert_exporter": "python",
   "pygments_lexer": "ipython3",
   "version": "3.11.11"
  }
 },
 "nbformat": 4,
 "nbformat_minor": 2
}
